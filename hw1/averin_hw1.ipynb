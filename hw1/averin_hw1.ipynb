{
 "cells": [
  {
   "cell_type": "code",
   "execution_count": 1,
   "metadata": {},
   "outputs": [],
   "source": [
    "import random\n",
    "import re"
   ]
  },
  {
   "cell_type": "code",
   "execution_count": 2,
   "metadata": {},
   "outputs": [],
   "source": [
    "def themaauswahl():\n",
    "    inhalt = {1: 'ruslang.txt', 2: 'hormones.txt', 3: 'tools.txt'}\n",
    "    while True:\n",
    "        wahl = input('Выберите тему \\n1. Языки России\\n2. Гормоны человека\\n3. Столярные инструменты\\n... и введите её НОМЕР: ')\n",
    "        if int(wahl) in inhalt:\n",
    "            wort = open(inhalt[int(wahl)], 'r', encoding='utf-8')\n",
    "            wortfile = wort.read()\n",
    "            break\n",
    "    return wortfile"
   ]
  },
  {
   "cell_type": "code",
   "execution_count": 3,
   "metadata": {},
   "outputs": [],
   "source": [
    "def wortauswahl(file):\n",
    "    wortliste = file.split('\\n')\n",
    "    wort = random.choice(wortliste)\n",
    "    feld = '_' * len(wort)\n",
    "    return wort, feld"
   ]
  },
  {
   "cell_type": "code",
   "execution_count": 4,
   "metadata": {},
   "outputs": [],
   "source": [
    "def space(x):\n",
    "    return(' '.join(list(x)))\n",
    "    ## вспомогательная функция для разделения угадываемого слова на пробелы"
   ]
  },
  {
   "cell_type": "code",
   "execution_count": 5,
   "metadata": {},
   "outputs": [],
   "source": [
    "def mistakes(x):\n",
    "    pic = str(x) + 'mistake.txt'\n",
    "    with open(pic, 'r', encoding='utf-8') as picture:\n",
    "        print(picture.read())\n",
    "    grammar = [[\"осталась \", \" попытка\"], [\"осталось \", \" попытки\"]]\n",
    "    intro = \"У вас \"\n",
    "    if x < 5:\n",
    "        attempt = str(5 - x)\n",
    "        if x < 4:\n",
    "            message = intro + grammar[1][0] + attempt + grammar[1][1]\n",
    "        else:\n",
    "            message = intro + grammar[0][0] + attempt + grammar[0][1]\n",
    "    else:\n",
    "        message = \"HA-HA-HA, YOU'RE DEAD :)\"\n",
    "    print(message)\n",
    "    ## функция для реакции на ошибки"
   ]
  },
  {
   "cell_type": "code",
   "execution_count": 6,
   "metadata": {},
   "outputs": [],
   "source": [
    "def correct(wort, feld, buchstabe):\n",
    "    numbers = []\n",
    "    for letter in enumerate(wort):\n",
    "        if letter[1] == buchstabe:\n",
    "            numbers.append(letter[0])\n",
    "    feld_neu = list(feld)\n",
    "    for item in numbers:\n",
    "        feld_neu[item] = buchstabe\n",
    "    ergebnis = ''.join(feld_neu)\n",
    "    return ergebnis\n",
    "    ## функция для правильной буквы"
   ]
  },
  {
   "cell_type": "code",
   "execution_count": 7,
   "metadata": {},
   "outputs": [],
   "source": [
    "def spiel(wort, feld):\n",
    "    length = str(len(wort))\n",
    "    begin = \"У вас есть 5 попыток, чтобы угадать слово из \" + length + ' букв'\n",
    "    print(begin)\n",
    "    fehler = 0\n",
    "    moves = []\n",
    "    while fehler < 5 and feld != wort:\n",
    "        print('\\n' + space(feld))\n",
    "        buchstabe = input(\"\\n100 очков на барабане! Буква... \").lower()\n",
    "        if len(buchstabe) > 1 or not re.match(\"[а-яА-ЯёЁ]\", buchstabe):\n",
    "            print('\\nНеверный символ! Введите одну кириллическую букву')\n",
    "        elif buchstabe in moves:\n",
    "            text = '\\nВы уже вводили букву \"' + buchstabe + '\"!'\n",
    "            print(text)\n",
    "        else:\n",
    "            moves.append(buchstabe)\n",
    "            if re.search(buchstabe, wort):\n",
    "                feld = correct(wort, feld, buchstabe)\n",
    "            else:\n",
    "                fehler += 1\n",
    "                mistakes(fehler)            \n",
    "    if feld == wort:\n",
    "        message = \"\\nCONGRATS!!! GLÜCKWUNSCH!!! ПОЗДРАВЛЯЕМ!!! مبارک است \\n\\nВы угадали слово '\" + wort + \"'\"\n",
    "        print(message)"
   ]
  },
  {
   "cell_type": "code",
   "execution_count": 8,
   "metadata": {},
   "outputs": [],
   "source": [
    "def main():\n",
    "    file = themaauswahl()\n",
    "    wort, feld = wortauswahl(file)\n",
    "    spiel(wort, feld)"
   ]
  },
  {
   "cell_type": "code",
   "execution_count": 9,
   "metadata": {},
   "outputs": [
    {
     "name": "stdout",
     "output_type": "stream",
     "text": [
      "Выберите тему \n",
      "1. Языки России\n",
      "2. Гормоны человека\n",
      "3. Столярные инструменты\n",
      "... и введите её НОМЕР: 5\n",
      "Выберите тему \n",
      "1. Языки России\n",
      "2. Гормоны человека\n",
      "3. Столярные инструменты\n",
      "... и введите её НОМЕР: 13\n",
      "Выберите тему \n",
      "1. Языки России\n",
      "2. Гормоны человека\n",
      "3. Столярные инструменты\n",
      "... и введите её НОМЕР: 2\n",
      "У вас есть 5 попыток, чтобы угадать слово из 11 букв\n",
      "\n",
      "_ _ _ _ _ _ _ _ _ _ _\n",
      "\n",
      "100 очков на барабане! Буква... н\n",
      "\n",
      "_ _ _ _ _ _ _ _ _ _ н\n",
      "\n",
      "100 очков на барабане! Буква... и\n",
      "__________\n",
      "| /      |\n",
      "|/      \n",
      "|       \n",
      "|       \n",
      "|\n",
      "|\n",
      "\n",
      "У вас осталось 4 попытки\n",
      "\n",
      "_ _ _ _ _ _ _ _ _ _ н\n",
      "\n",
      "100 очков на барабане! Буква... о\n",
      "\n",
      "_ _ _ _ о _ _ _ _ о н\n",
      "\n",
      "100 очков на барабане! Буква... м\n",
      "__________\n",
      "| /      |\n",
      "|/       o\n",
      "|        \n",
      "|       \n",
      "|\n",
      "|\n",
      "\n",
      "У вас осталось 3 попытки\n",
      "\n",
      "_ _ _ _ о _ _ _ _ о н\n",
      "\n",
      "100 очков на барабане! Буква... с\n",
      "\n",
      "_ _ с _ о с _ _ _ о н\n",
      "\n",
      "100 очков на барабане! Буква... т\n",
      "\n",
      "т _ с т о с т _ _ о н\n",
      "\n",
      "100 очков на барабане! Буква... е\n",
      "\n",
      "т е с т о с т е _ о н\n",
      "\n",
      "100 очков на барабане! Буква... р\n",
      "\n",
      "CONGRATS!!! GLÜCKWUNSCH!!! ПОЗДРАВЛЯЕМ!!! مبارک است \n",
      "\n",
      "Вы угадали слово 'тестостерон'\n"
     ]
    }
   ],
   "source": [
    "if __name__ == '__main__':\n",
    "    main()"
   ]
  }
 ],
 "metadata": {
  "kernelspec": {
   "display_name": "Python 3",
   "language": "python",
   "name": "python3"
  },
  "language_info": {
   "codemirror_mode": {
    "name": "ipython",
    "version": 3
   },
   "file_extension": ".py",
   "mimetype": "text/x-python",
   "name": "python",
   "nbconvert_exporter": "python",
   "pygments_lexer": "ipython3",
   "version": "3.6.5"
  }
 },
 "nbformat": 4,
 "nbformat_minor": 2
}
