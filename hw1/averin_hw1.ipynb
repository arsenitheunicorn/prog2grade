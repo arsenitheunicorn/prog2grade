{
 "cells": [
  {
   "cell_type": "code",
   "execution_count": null,
   "metadata": {},
   "outputs": [],
   "source": [
    "import random\n",
    "import re"
   ]
  },
  {
   "cell_type": "code",
   "execution_count": null,
   "metadata": {},
   "outputs": [],
   "source": [
    "def themaauswahl():\n",
    "    inhalt = {1: 'ruslang.txt', 2: 'hormones.txt', 3: 'tools.txt'}\n",
    "    while True:\n",
    "        wahl = input('Выберите тему \\n1. Языки России\\n2. Гормоны человека\\n3. Столярные инструменты\\n... и введите её НОМЕР: ')\n",
    "        if int(wahl) in inhalt:\n",
    "            wort = open(inhalt[int(wahl)], 'r', encoding='utf-8')\n",
    "            wortfile = wort.read()\n",
    "            break\n",
    "    return wortfile"
   ]
  },
  {
   "cell_type": "code",
   "execution_count": null,
   "metadata": {},
   "outputs": [],
   "source": [
    "def wortauswahl(file):\n",
    "    wortliste = file.split('\\n')\n",
    "    wort = random.choice(wortliste)\n",
    "    feld = '_' * len(wort)\n",
    "    return wort, feld"
   ]
  },
  {
   "cell_type": "code",
   "execution_count": null,
   "metadata": {},
   "outputs": [],
   "source": [
    "def space(x):\n",
    "    return(' '.join(list(x)))\n",
    "    ## вспомогательная функция для разделения угадываемого слова на пробелы"
   ]
  },
  {
   "cell_type": "code",
   "execution_count": null,
   "metadata": {},
   "outputs": [],
   "source": [
    "def mistakes(x):\n",
    "    pic = str(x) + 'mistake.txt'\n",
    "    with open(pic, 'r', encoding='utf-8') as picture:\n",
    "        print(picture.read())\n",
    "    grammar = [[\"осталась \", \" попытка\"], [\"осталось \", \" попытки\"]]\n",
    "    intro = \"У вас \"\n",
    "    if x < 5:\n",
    "        attempt = str(5 - x)\n",
    "        if x < 4:\n",
    "            message = intro + grammar[1][0] + attempt + grammar[1][1]\n",
    "        else:\n",
    "            message = intro + grammar[0][0] + attempt + grammar[0][1]\n",
    "    else:\n",
    "        message = \"HA-HA-HA, YOU'RE DEAD :)\"\n",
    "    print(message)\n",
    "    ## функция для реакции на ошибки"
   ]
  },
  {
   "cell_type": "code",
   "execution_count": null,
   "metadata": {},
   "outputs": [],
   "source": [
    "def correct(wort, feld, buchstabe):\n",
    "    numbers = []\n",
    "    for letter in enumerate(wort):\n",
    "        if letter[1] == buchstabe:\n",
    "            numbers.append(letter[0])\n",
    "    feld_neu = list(feld)\n",
    "    for item in numbers:\n",
    "        feld_neu[item] = buchstabe\n",
    "    ergebnis = ''.join(feld_neu)\n",
    "    return ergebnis\n",
    "    ## функция для правильной буквы"
   ]
  },
  {
   "cell_type": "code",
   "execution_count": null,
   "metadata": {},
   "outputs": [],
   "source": [
    "def spiel(wort, feld):\n",
    "    length = str(len(wort))\n",
    "    begin = \"У вас есть 5 попыток, чтобы угадать слово из \" + length + ' букв'\n",
    "    print(begin)\n",
    "    fehler = 0\n",
    "    moves = []\n",
    "    while fehler < 5 and feld != wort:\n",
    "        print('\\n' + space(feld))\n",
    "        buchstabe = input(\"\\n100 очков на барабане! Буква... \").lower()\n",
    "        if len(buchstabe) > 1 or not re.match(\"[а-яА-ЯёЁ]\", buchstabe):\n",
    "            print('\\nНеверный символ! Введите одну кириллическую букву')\n",
    "        elif buchstabe in moves:\n",
    "            text = '\\nВы уже вводили букву \"' + buchstabe + '\"!'\n",
    "            print(text)\n",
    "        else:\n",
    "            moves.append(buchstabe)\n",
    "            if re.search(buchstabe, wort):\n",
    "                feld = correct(wort, feld, buchstabe)\n",
    "            else:\n",
    "                fehler += 1\n",
    "                mistakes(fehler)            \n",
    "    if feld == wort:\n",
    "        message = \"\\nCONGRATS!!! GLÜCKWUNSCH!!! ПОЗДРАВЛЯЕМ!!! مبارک است \\n\\nВы угадали слово '\" + wort + \"'\"\n",
    "        print(message)"
   ]
  },
  {
   "cell_type": "code",
   "execution_count": null,
   "metadata": {},
   "outputs": [],
   "source": [
    "def main():\n",
    "    file = themaauswahl()\n",
    "    wort, feld = wortauswahl(file)\n",
    "    spiel(wort, feld)"
   ]
  },
  {
   "cell_type": "code",
   "execution_count": null,
   "metadata": {},
   "outputs": [],
   "source": [
    "if __name__ == '__main__':\n",
    "    main()"
   ]
  }
 ],
 "metadata": {
  "kernelspec": {
   "display_name": "Python 3",
   "language": "python",
   "name": "python3"
  },
  "language_info": {
   "codemirror_mode": {
    "name": "ipython",
    "version": 3
   },
   "file_extension": ".py",
   "mimetype": "text/x-python",
   "name": "python",
   "nbconvert_exporter": "python",
   "pygments_lexer": "ipython3",
   "version": "3.6.5"
  }
 },
 "nbformat": 4,
 "nbformat_minor": 2
}
