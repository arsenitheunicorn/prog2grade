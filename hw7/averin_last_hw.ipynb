{
 "cells": [
  {
   "cell_type": "code",
   "execution_count": null,
   "metadata": {},
   "outputs": [],
   "source": [
    "import urllib.request\n",
    "import gensim.models as gnm\n",
    "import networkx as nx\n",
    "import os\n",
    "from networkx.algorithms import community\n",
    "%matplotlib inline\n",
    "import matplotlib.pyplot as plt\n",
    "from matplotlib import style\n",
    "style.use('ggplot')"
   ]
  },
  {
   "cell_type": "code",
   "execution_count": null,
   "metadata": {},
   "outputs": [],
   "source": [
    "def take_model():\n",
    "    folder_list = os.listdir()\n",
    "    m = \"ruscorpora_mystem_cbow_300_2_2015.bin.gz\"\n",
    "    url = \"http://rusvectores.org/static/models/\" \\\n",
    "    \"rusvectores2/\"\n",
    "    url += m\n",
    "    if m not in folder_list:\n",
    "        urllib.request.urlretrieve(url, m)\n",
    "    if m.endswith('.vec.gz'):\n",
    "        model = gnm.KeyedVectors.load_word2vec_format(m, binary=False)\n",
    "    elif m.endswith('.bin.gz'):\n",
    "        model = gnm.KeyedVectors.load_word2vec_format(m, binary=True)\n",
    "    else:\n",
    "        model = gnm.KeyedVectors.load(m)\n",
    "    return model"
   ]
  },
  {
   "cell_type": "code",
   "execution_count": null,
   "metadata": {},
   "outputs": [],
   "source": [
    "def boundwords(model, word, stops):\n",
    "    found = []\n",
    "    for i in model.most_similar(positive=[word], topn=15):\n",
    "        if i[1] >= 0.5 and i[0].endswith('_S'):\n",
    "            if i[0] not in stops:\n",
    "                edge = (word, i[0], i[1])\n",
    "                found.append(edge)\n",
    "    return found"
   ]
  },
  {
   "cell_type": "code",
   "execution_count": null,
   "metadata": {},
   "outputs": [],
   "source": [
    "def semantic_net(model):\n",
    "    keys = ['коммунизм_S', 'социализм_S']\n",
    "    edges = []\n",
    "    for word in keys:\n",
    "        b = boundwords(model, word, keys)\n",
    "        edges.extend(b)\n",
    "    stage1 = edges.copy()\n",
    "    for tup in stage1:\n",
    "        word = tup[1]\n",
    "        keys.append(word)\n",
    "        b = boundwords(model, word, keys)\n",
    "        edges.extend(b)\n",
    "    return edges"
   ]
  },
  {
   "cell_type": "code",
   "execution_count": null,
   "metadata": {},
   "outputs": [],
   "source": [
    "def words_only(found):\n",
    "    w = []\n",
    "    for tup in found:\n",
    "        for item in tup:\n",
    "            if not isinstance(item, float):\n",
    "                cand = item\n",
    "                if cand not in w:\n",
    "                    w.append(cand)\n",
    "    return w"
   ]
  },
  {
   "cell_type": "code",
   "execution_count": null,
   "metadata": {},
   "outputs": [],
   "source": [
    "def semantic_frame():\n",
    "    model = take_model()\n",
    "    edges = semantic_net(model)\n",
    "    words = words_only(edges)\n",
    "    return edges, words"
   ]
  },
  {
   "cell_type": "code",
   "execution_count": null,
   "metadata": {},
   "outputs": [],
   "source": [
    "edges, words = semantic_frame()"
   ]
  },
  {
   "cell_type": "code",
   "execution_count": null,
   "metadata": {},
   "outputs": [],
   "source": [
    "def makeG(edges, words):\n",
    "    G = nx.Graph()\n",
    "    for w in words:\n",
    "        G.add_node(w[:-2])\n",
    "    for tup in edges:\n",
    "        n0 = tup[0][:-2]\n",
    "        n1 = tup[1][:-2]\n",
    "        cosin = tup[2]\n",
    "        G.add_edge(n0, n1, weight=cosin)\n",
    "    return G"
   ]
  },
  {
   "cell_type": "code",
   "execution_count": null,
   "metadata": {},
   "outputs": [],
   "source": [
    "def drawG(G):\n",
    "    font = 'Helvetica'\n",
    "    pos=nx.spring_layout(G)\n",
    "    nx.draw_networkx_nodes(G, pos, node_color='red', node_size=20) \n",
    "    nx.draw_networkx_edges(G, pos, edge_color='yellow')\n",
    "    nx.draw_networkx_labels(G, pos, font_size=45, font_family=font)\n",
    "    plt.rcParams[\"figure.figsize\"] = (80, 60)\n",
    "    plt.axis('off') \n",
    "    plt.show()"
   ]
  },
  {
   "cell_type": "code",
   "execution_count": null,
   "metadata": {},
   "outputs": [],
   "source": [
    "def paragraph4(G):\n",
    "    m = 'Центральность:\\n'\n",
    "    print(m)\n",
    "    cen = ['degree', 'closeness', 'betweenness', 'eigen']\n",
    "    wins = []\n",
    "    c = 'centrality'\n",
    "    deg = nx.degree_centrality(G)\n",
    "    p = sorted(deg, key=deg.get, reverse=True)[0]\n",
    "    wins.append(p)\n",
    "    deg = nx.closeness_centrality(G)\n",
    "    p = sorted(deg, key=deg.get, reverse=True)[0]\n",
    "    wins.append(p)\n",
    "    deg = nx.betweenness_centrality(G)\n",
    "    p = sorted(deg, key=deg.get, reverse=True)[0]\n",
    "    wins.append(p)\n",
    "    deg = nx.eigenvector_centrality(G)\n",
    "    p = sorted(deg, key=deg.get, reverse=True)[0]\n",
    "    wins.append(p)\n",
    "    for i in range(0, 4):\n",
    "        m = cen[i] + ' ' + c\n",
    "        m += ':\\t' + wins[i]\n",
    "        print(m)"
   ]
  },
  {
   "cell_type": "code",
   "execution_count": null,
   "metadata": {},
   "outputs": [],
   "source": [
    "def paragraph5(G):\n",
    "    m = 'Параметры графа:\\n'\n",
    "    print(m)\n",
    "    cen = ['density', 'diameter', 'radius', \n",
    "           'clustering', 'assortativity']\n",
    "    wins = []\n",
    "    a = nx.density(G)\n",
    "    wins.append(a)\n",
    "    a = nx.diameter(G)\n",
    "    wins.append(a)\n",
    "    a = nx.radius(G)\n",
    "    wins.append(a)\n",
    "    a = nx.average_clustering(G)\n",
    "    wins.append(a)\n",
    "    a = nx.degree_pearson_correlation_coefficient(G)\n",
    "    wins.append(a)\n",
    "    for i in range(0, 5):\n",
    "        m = cen[i] + ':\\t' + str(wins[i])\n",
    "        print(m)"
   ]
  },
  {
   "cell_type": "code",
   "execution_count": null,
   "metadata": {},
   "outputs": [],
   "source": [
    "def whole_graph(edges, words):\n",
    "    G = makeG(edges, words)\n",
    "    drawG(G)\n",
    "    paragraph4(G)\n",
    "    paragraph5(G)\n",
    "    return G"
   ]
  },
  {
   "cell_type": "code",
   "execution_count": null,
   "metadata": {},
   "outputs": [],
   "source": [
    "G = whole_graph(edges, words)"
   ]
  },
  {
   "cell_type": "code",
   "execution_count": null,
   "metadata": {},
   "outputs": [],
   "source": [
    "def communities(G):\n",
    "    c = community.greedy_modularity_communities(G)\n",
    "    for i, com in enumerate(c, start=1):\n",
    "        print(i, ' ', list(com))"
   ]
  },
  {
   "cell_type": "code",
   "execution_count": null,
   "metadata": {},
   "outputs": [],
   "source": [
    "communities(G)"
   ]
  },
  {
   "cell_type": "markdown",
   "metadata": {},
   "source": [
    "В графе выделено 8 сообществ. Слова в сообществе 1 имеют большее отношение к октябрьскому перевороту 1917 года; сообщество 2 связано с формами правления или же номинальными агентами власти при разных формах. Сообщество 3 содержит себе слова, которые являются обобщающими для большинства остальных слов. Сообщество 5 связано с теориями, не получившими практического воплощения (и слово \"атеизм\"). Слова из сообщества 6 показывают направления общественно-политической мысли в Европе XIX века. Сообщество 7 содержит разные типы общественных формаций (в марксистской терминологии).\n",
    "Сообщества 4 и 8, как мне кажется, образованы по остаточному признаку."
   ]
  }
 ],
 "metadata": {
  "kernelspec": {
   "display_name": "Python 3",
   "language": "python",
   "name": "python3"
  },
  "language_info": {
   "codemirror_mode": {
    "name": "ipython",
    "version": 3
   },
   "file_extension": ".py",
   "mimetype": "text/x-python",
   "name": "python",
   "nbconvert_exporter": "python",
   "pygments_lexer": "ipython3",
   "version": "3.7.3"
  }
 },
 "nbformat": 4,
 "nbformat_minor": 2
}
