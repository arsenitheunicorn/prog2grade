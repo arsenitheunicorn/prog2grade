{
 "cells": [
  {
   "cell_type": "code",
   "execution_count": null,
   "metadata": {},
   "outputs": [],
   "source": [
    "import json\n",
    "import urllib.request\n",
    "\n",
    "def get_users():\n",
    "##    with open('users.txt', 'r', encoding='utf-8') as file:\n",
    "##        f = file.read()\n",
    "##        print(f)\n",
    "##        userset = set(f.split('\\n'))\n",
    "    userset = set()\n",
    "    print(\"Вводите по одному нику. Пустой код будет окончать завершение пополнения списка.\\n\")\n",
    "    while True:\n",
    "        user = input(\"Введите ник пользователя: \")\n",
    "        if user:\n",
    "            userset.add(user)\n",
    "        else:\n",
    "            break\n",
    "    if userset != set():\n",
    "        print(\"\\nИтоговый вид вашего списка:\\n\", list(userset))\n",
    "        return userset\n",
    "    else:\n",
    "        print(\"\\nВы не внесли в список никого, поэтому будете работать с нашим списком:\")\n",
    "        default_userlist = ['ancatmara', 'JelteF', 'bcongdon', 'arsenitheunicorn']\n",
    "        print(default_userlist)\n",
    "        return set(default_userlist)"
   ]
  },
  {
   "cell_type": "code",
   "execution_count": null,
   "metadata": {},
   "outputs": [],
   "source": [
    "def choose_user(userset):\n",
    "    user = 'костыль'\n",
    "    while user not in userset:\n",
    "        user = input('Выберите пользователя и введите его ник: ')\n",
    "    print(\"\\nВы выбрали пользователя\", user, '\\n')\n",
    "    return user"
   ]
  },
  {
   "cell_type": "code",
   "execution_count": null,
   "metadata": {},
   "outputs": [],
   "source": [
    "def download_data(user):\n",
    "    token = '1963d076d1432cc5ed7adadfe87b324a0f81f36a'\n",
    "    page = 0\n",
    "    data = list()\n",
    "    while len(data) == 100 * page:\n",
    "        page += 1\n",
    "        url = 'https://api.github.com/users/%s/repos?page=%s&per_page=100&access_token=%s' % (user, page, token)\n",
    "        jason = urllib.request.urlopen(url)\n",
    "        text = jason.read().decode('utf-8')\n",
    "        data += json.loads(text)\n",
    "    return data"
   ]
  },
  {
   "cell_type": "code",
   "execution_count": null,
   "metadata": {},
   "outputs": [],
   "source": [
    "def send_reps(data):\n",
    "    reps = {}\n",
    "    for rep in data:\n",
    "        reps[rep['name']] = rep['description']\n",
    "    print(\"Список его репозиториев:\\n\")\n",
    "    for name in reps:\n",
    "        if reps[name]:\n",
    "            print(name, ':\\t', reps[name], '\\n')\n",
    "        else:\n",
    "            print(name, ':\\t(((описание отсутствует)))\\n')"
   ]
  },
  {
   "cell_type": "code",
   "execution_count": null,
   "metadata": {},
   "outputs": [],
   "source": [
    "def languages(data, user):\n",
    "    lang_dict = dict()\n",
    "    for rep in data:\n",
    "        if rep['language']:\n",
    "            if rep['language'] in lang_dict:\n",
    "                lang_dict[rep['language']] += 1\n",
    "            else:\n",
    "                lang_dict[rep['language']] = 1\n",
    "    answer = 'Языки, на которых пишет пользователь %s: ' % user\n",
    "    for lang in sorted(lang_dict, key=lang_dict.get, reverse=True):\n",
    "        lang_card = lang + ' (%s), ' % str(lang_dict[lang])\n",
    "        answer += lang_card\n",
    "    print(answer[:len(answer) - 2])\n",
    "    print('\\nNB: В скобках дано число репозиториев, в которых используется этот язык')\n",
    "    return lang_dict"
   ]
  },
  {
   "cell_type": "code",
   "execution_count": null,
   "metadata": {},
   "outputs": [],
   "source": [
    "def more_reps(userset):\n",
    "    wb = dict()\n",
    "    for person in userset:\n",
    "        wb[person] = len(download_data(person))\n",
    "    winner = sorted(wb, key=wb.get, reverse=True)[0]\n",
    "    print(\"\\nСреди пользователей\", list(userset), \"больше всего репозиториев у пользователя\", winner)"
   ]
  },
  {
   "cell_type": "code",
   "execution_count": null,
   "metadata": {},
   "outputs": [],
   "source": [
    "def popular_lang(userset):\n",
    "    lang_rating = dict()\n",
    "    for person in userset:\n",
    "        all_users_reps = download_data(person)\n",
    "        for rep in all_users_reps:\n",
    "            if rep['language']:\n",
    "                if rep['language'] in lang_rating:\n",
    "                    lang_rating[rep['language']] += 1\n",
    "                else:\n",
    "                    lang_rating[rep['language']] = 1\n",
    "    winner = sorted(lang_rating, key=lang_rating.get, reverse=True)[0]\n",
    "    print(\"\\nСамый популярный язык среди пользователей из списка —\", winner)"
   ]
  },
  {
   "cell_type": "code",
   "execution_count": null,
   "metadata": {},
   "outputs": [],
   "source": [
    "def followers(userset):\n",
    "    token = '1963d076d1432cc5ed7adadfe87b324a0f81f36a'\n",
    "    foll_rating = dict()\n",
    "    for person in userset:\n",
    "        fllwrs = list()\n",
    "        page = 0\n",
    "        while len(fllwrs) == 100 * page:\n",
    "            page += 1\n",
    "            url = 'https://api.github.com/users/%s/followers?page=%s&per_page=100&access_token=%s' % (person, page, token)\n",
    "            jason = urllib.request.urlopen(url)\n",
    "            text = jason.read().decode('utf-8')\n",
    "            fllwrs += json.loads(text)\n",
    "        foll_rating[person] = len(fllwrs)\n",
    "    winner = sorted(foll_rating, key=foll_rating.get, reverse=True)[0]\n",
    "    print(\"\\nБольше всего фолловеров у\", winner)"
   ]
  },
  {
   "cell_type": "code",
   "execution_count": null,
   "metadata": {},
   "outputs": [],
   "source": [
    "def main():\n",
    "    userset = get_users()\n",
    "    user = choose_user(userset)\n",
    "    data = download_data(user)\n",
    "    send_reps(data)\n",
    "    lang_dict = languages(data, user)\n",
    "    more_reps(userset)\n",
    "    popular_lang(userset)\n",
    "    followers(userset)"
   ]
  },
  {
   "cell_type": "code",
   "execution_count": null,
   "metadata": {},
   "outputs": [],
   "source": [
    "if __name__ == '__main__':\n",
    "    main()"
   ]
  }
 ],
 "metadata": {
  "kernelspec": {
   "display_name": "Python 3",
   "language": "python",
   "name": "python3"
  },
  "language_info": {
   "codemirror_mode": {
    "name": "ipython",
    "version": 3
   },
   "file_extension": ".py",
   "mimetype": "text/x-python",
   "name": "python",
   "nbconvert_exporter": "python",
   "pygments_lexer": "ipython3",
   "version": "3.6.5"
  }
 },
 "nbformat": 4,
 "nbformat_minor": 2
}
